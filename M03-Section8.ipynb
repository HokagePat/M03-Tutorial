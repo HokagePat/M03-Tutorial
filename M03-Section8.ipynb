{
 "cells": [
  {
   "cell_type": "code",
   "execution_count": 7,
   "id": "2f773124",
   "metadata": {},
   "outputs": [],
   "source": [
    "#Question 1:\n",
    "#These were very hard and I had to watch the solutions video because I got confused too much\n",
    "\n",
    "class Line:\n",
    "    \n",
    "    def __init__(self,coor1,coor2):\n",
    "        self.coor1 = coor1\n",
    "        self.coor2 = coor2\n",
    "    \n",
    "    def distance(self):\n",
    "        x1,y1= self.coor1\n",
    "        x2,y2 = self.coor2\n",
    "        return ((x2-x1)**2+(y2-y1)**2)**0.5 \n",
    "    \n",
    "    def slope(self):\n",
    "        x1,y1= self.coor1\n",
    "        x2,y2 = self.coor2 \n",
    "        return (y2-y1)/(x2-x1)"
   ]
  },
  {
   "cell_type": "code",
   "execution_count": 8,
   "id": "c7b27045",
   "metadata": {},
   "outputs": [],
   "source": [
    "coor1 = (3,2)\n",
    "coor2 = (8,10)"
   ]
  },
  {
   "cell_type": "code",
   "execution_count": 9,
   "id": "03c6b4d4",
   "metadata": {},
   "outputs": [],
   "source": [
    "myLine = Line(coor1,coor2)"
   ]
  },
  {
   "cell_type": "code",
   "execution_count": 10,
   "id": "7d50ac52",
   "metadata": {},
   "outputs": [
    {
     "data": {
      "text/plain": [
       "9.433981132056603"
      ]
     },
     "execution_count": 10,
     "metadata": {},
     "output_type": "execute_result"
    }
   ],
   "source": [
    "myLine.distance()"
   ]
  },
  {
   "cell_type": "code",
   "execution_count": 11,
   "id": "ff6b31ce",
   "metadata": {},
   "outputs": [
    {
     "data": {
      "text/plain": [
       "1.6"
      ]
     },
     "execution_count": 11,
     "metadata": {},
     "output_type": "execute_result"
    }
   ],
   "source": [
    "myLine.slope()"
   ]
  },
  {
   "cell_type": "code",
   "execution_count": 15,
   "id": "3dc063fe",
   "metadata": {},
   "outputs": [],
   "source": [
    "#Question 2:\n",
    "\n",
    "class Cylinder:\n",
    "    \n",
    "    def __init__(self,height=1,radius=1):\n",
    "        self.height = height\n",
    "        self.radius = radius\n",
    "    \n",
    "    def volume(self):\n",
    "        return self.height * 3.14 * (self.radius) ** 2\n",
    "    \n",
    "    def surface_area(self):\n",
    "        top = 3.14 * (self.radius ** 2)\n",
    "        return (2 * top) + (2 * 3.14 * self.radius * self.height)\n"
   ]
  },
  {
   "cell_type": "code",
   "execution_count": 16,
   "id": "0a46be8d",
   "metadata": {},
   "outputs": [],
   "source": [
    "c = Cylinder(2,3)"
   ]
  },
  {
   "cell_type": "code",
   "execution_count": 17,
   "id": "d59ecd52",
   "metadata": {},
   "outputs": [
    {
     "data": {
      "text/plain": [
       "56.52"
      ]
     },
     "execution_count": 17,
     "metadata": {},
     "output_type": "execute_result"
    }
   ],
   "source": [
    "c.volume()"
   ]
  },
  {
   "cell_type": "code",
   "execution_count": 18,
   "id": "289fafa4",
   "metadata": {},
   "outputs": [
    {
     "data": {
      "text/plain": [
       "94.2"
      ]
     },
     "execution_count": 18,
     "metadata": {},
     "output_type": "execute_result"
    }
   ],
   "source": [
    "c.surface_area()"
   ]
  }
 ],
 "metadata": {
  "kernelspec": {
   "display_name": "Python 3 (ipykernel)",
   "language": "python",
   "name": "python3"
  },
  "language_info": {
   "codemirror_mode": {
    "name": "ipython",
    "version": 3
   },
   "file_extension": ".py",
   "mimetype": "text/x-python",
   "name": "python",
   "nbconvert_exporter": "python",
   "pygments_lexer": "ipython3",
   "version": "3.10.5"
  }
 },
 "nbformat": 4,
 "nbformat_minor": 5
}
